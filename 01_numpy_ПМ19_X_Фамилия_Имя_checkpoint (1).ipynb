{
  "cells": [
    {
      "cell_type": "markdown",
      "metadata": {
        "id": "YDictkEbYV-p"
      },
      "source": [
        "# Numpy"
      ]
    },
    {
      "cell_type": "markdown",
      "metadata": {
        "id": "5LGGCxUkYV-r"
      },
      "source": [
        "Материалы:\n",
        "* Макрушин С.В. \"Лекция 1: Библиотека Numpy\"\n",
        "* https://numpy.org/doc/stable/user/index.html\n",
        "* https://numpy.org/doc/stable/reference/index.html"
      ]
    },
    {
      "cell_type": "markdown",
      "metadata": {
        "id": "NX5qFQfkYV-r"
      },
      "source": [
        "## Задачи для совместного разбора"
      ]
    },
    {
      "cell_type": "markdown",
      "metadata": {
        "id": "Yr0-Kr1aYV-r"
      },
      "source": [
        "1. Сгенерировать двухмерный массив `arr` размерности (4, 7), состоящий из случайных действительных чисел, равномерно распределенных в диапазоне от 0 до 20. Нормализовать значения массива с помощью преобразования вида  $𝑎𝑥+𝑏$  так, что после нормализации максимальный элемент масcива будет равен 1.0, минимальный 0.0"
      ]
    },
    {
      "cell_type": "code",
      "execution_count": null,
      "metadata": {
        "colab": {
          "base_uri": "https://localhost:8080/"
        },
        "id": "8DDu0WU_YV-s",
        "outputId": "ba2fa29d-f340-4be5-a2ed-c38d6490017d"
      },
      "outputs": [
        {
          "output_type": "stream",
          "name": "stdout",
          "text": [
            "[[ 0.          0.71428571  1.42857143  2.14285714  2.85714286  3.57142857\n",
            "   4.28571429]\n",
            " [ 5.          5.71428571  6.42857143  7.14285714  7.85714286  8.57142857\n",
            "   9.28571429]\n",
            " [10.         10.71428571 11.42857143 12.14285714 12.85714286 13.57142857\n",
            "  14.28571429]\n",
            " [15.         15.71428571 16.42857143 17.14285714 17.85714286 18.57142857\n",
            "  19.28571429]]\n",
            "[[0.         0.03703704 0.07407407 0.11111111 0.14814815 0.18518519\n",
            "  0.22222222]\n",
            " [0.25925926 0.2962963  0.33333333 0.37037037 0.40740741 0.44444444\n",
            "  0.48148148]\n",
            " [0.51851852 0.55555556 0.59259259 0.62962963 0.66666667 0.7037037\n",
            "  0.74074074]\n",
            " [0.77777778 0.81481481 0.85185185 0.88888889 0.92592593 0.96296296\n",
            "  1.        ]]\n"
          ]
        }
      ],
      "source": [
        "import numpy as np \n",
        "\n",
        "arr = np.linspace(0, 20, 28, endpoint=False).reshape((4, 7))\n",
        "print(arr)\n",
        "arr = np.array([el/np.max(arr) for el in arr])\n",
        "print(arr)"
      ]
    },
    {
      "cell_type": "markdown",
      "metadata": {
        "id": "RJgQRd-0YV-s"
      },
      "source": [
        "2. Создать матрицу 8 на 10 из случайных целых (используя модуль `numpy.random`) чисел из диапозона от 0 до 10 и найти в ней строку (ее индекс и вывести саму строку), в которой сумма значений минимальна."
      ]
    },
    {
      "cell_type": "code",
      "source": [
        "arr = np.random.randint(0, 10, (8, 10))\n",
        "temp = [sum(el) for el in arr]\n",
        "print(min(temp), temp.index(min(temp)))"
      ],
      "metadata": {
        "colab": {
          "base_uri": "https://localhost:8080/"
        },
        "id": "NBsS5tLZej3G",
        "outputId": "0645a115-a08f-4678-c66a-d287e8d5b4b6"
      },
      "execution_count": null,
      "outputs": [
        {
          "output_type": "stream",
          "name": "stdout",
          "text": [
            "34 0\n"
          ]
        }
      ]
    },
    {
      "cell_type": "markdown",
      "metadata": {
        "id": "Wg2Zh_abYV-s"
      },
      "source": [
        "3. Найти евклидово расстояние между двумя одномерными векторами одинаковой размерности."
      ]
    },
    {
      "cell_type": "code",
      "source": [
        "data = np.random.randint(0, 10, (2, 10))\n",
        "distance = np.linalg.norm(data[0] - data[1])\n",
        "print(distance)"
      ],
      "metadata": {
        "colab": {
          "base_uri": "https://localhost:8080/"
        },
        "id": "HdFmSo5Ogcoj",
        "outputId": "c0437e04-2ec8-4c8c-a913-ca1152f3208d"
      },
      "execution_count": null,
      "outputs": [
        {
          "output_type": "stream",
          "name": "stdout",
          "text": [
            "11.74734012447073\n"
          ]
        }
      ]
    },
    {
      "cell_type": "markdown",
      "metadata": {
        "id": "Gtg6ot7nYV-s"
      },
      "source": [
        "4. Решить матричное уравнение `A*X*B=-C` - найти матрицу `X`. Где `A = [[-1, 2, 4], [-3, 1, 2], [-3, 0, 1]]`, `B=[[3, -1], [2, 1]]`, `C=[[7, 21], [11, 8], [8, 4]]`."
      ]
    },
    {
      "cell_type": "code",
      "source": [
        "A = np.array([[-1, 2, 4], [-3, 1, 2], [-3, 0, 1]])\n",
        "B = np.array([[3, -1], [2, 1]])\n",
        "C = np.array([[7, 21], [11, 8], [8, 4]])\n",
        "\n",
        "print(np.linalg.inv(A) @ (C * (-1)) @ np.linalg.inv(B))"
      ],
      "metadata": {
        "colab": {
          "base_uri": "https://localhost:8080/"
        },
        "id": "Fu-d4s_3jpi3",
        "outputId": "c832b297-4d5d-4f79-94a1-266ae8ee5756"
      },
      "execution_count": null,
      "outputs": [
        {
          "output_type": "stream",
          "name": "stdout",
          "text": [
            "[[ 1.00000000e+00  5.32907052e-16]\n",
            " [-2.00000000e+00  1.00000000e+00]\n",
            " [ 3.00000000e+00 -4.00000000e+00]]\n"
          ]
        }
      ]
    },
    {
      "cell_type": "markdown",
      "metadata": {
        "id": "l1EiYwXAYV-t"
      },
      "source": [
        "## Лабораторная работа №1"
      ]
    },
    {
      "cell_type": "markdown",
      "metadata": {
        "id": "Anv7UMpYYV-t"
      },
      "source": [
        "Замечание: при решении данных задач не подразумевается использования циклов или генераторов Python, если в задании не сказано обратного. Решение должно опираться на использования функционала библиотеки `numpy`."
      ]
    },
    {
      "cell_type": "code",
      "source": [
        "import numpy as np"
      ],
      "metadata": {
        "id": "8Nvfih3QHTUj"
      },
      "execution_count": null,
      "outputs": []
    },
    {
      "cell_type": "markdown",
      "metadata": {
        "id": "_blEUn6iYV-t"
      },
      "source": [
        "1. Файл `minutes_n_ingredients.csv` содержит информацию об идентификаторе рецепта, времени его выполнения в минутах и количестве необходимых ингредиентов. Считайте данные из этого файла в виде массива `numpy` типа `int32`, используя `np.loadtxt`. Выведите на экран первые 5 строк массива."
      ]
    },
    {
      "cell_type": "code",
      "source": [
        "columns = np.loadtxt('minutes_n_ingredients.csv', max_rows=1, dtype=str, delimiter=',')\n",
        "data = np.loadtxt('minutes_n_ingredients.csv', skiprows=1, dtype=np.int32, delimiter=',')\n",
        "\n",
        "print(data[:5])"
      ],
      "metadata": {
        "colab": {
          "base_uri": "https://localhost:8080/"
        },
        "id": "8FhbZanQ9Ljp",
        "outputId": "299ef163-8b7f-4c4b-fb4c-37a377e3f3f2"
      },
      "execution_count": null,
      "outputs": [
        {
          "output_type": "stream",
          "name": "stdout",
          "text": [
            "[[127244     60     16]\n",
            " [ 23891     25      7]\n",
            " [ 94746     10      6]\n",
            " [ 67660      5      6]\n",
            " [157911     60     14]]\n"
          ]
        }
      ]
    },
    {
      "cell_type": "markdown",
      "metadata": {
        "id": "aNFwK0NgYV-t"
      },
      "source": [
        "2. Вычислите среднее значение, минимум, максимум и медиану по каждому из столбцов, кроме первого."
      ]
    },
    {
      "cell_type": "code",
      "source": [
        "import numpy as np\n",
        "\n",
        "without_id = np.array(data[:, 1:])\n",
        "by_cols = 0\n",
        "\n",
        "means_by_cols = without_id.mean(axis=by_cols)\n",
        "min_values_by_cols = without_id.min(axis=by_cols)\n",
        "max_values_by_cols = without_id.max(axis=by_cols)\n",
        "medians_by_cols = np.median(without_id, axis=by_cols)\n",
        "\n",
        "print(columns[1:],'\\n', means_by_cols,'\\n', min_values_by_cols,'\\n', max_values_by_cols,'\\n', medians_by_cols,'\\n')"
      ],
      "metadata": {
        "colab": {
          "base_uri": "https://localhost:8080/"
        },
        "id": "SzM9CUKZ94y6",
        "outputId": "98c9df9e-caec-46b8-9b3e-dd0052f00fd3"
      },
      "execution_count": null,
      "outputs": [
        {
          "output_type": "stream",
          "name": "stdout",
          "text": [
            "['minutes' 'n_ingredients'] \n",
            " [2.16010017e+04 9.05528000e+00] \n",
            " [0 1] \n",
            " [2147483647         39] \n",
            " [40.  9.] \n",
            "\n"
          ]
        }
      ]
    },
    {
      "cell_type": "markdown",
      "metadata": {
        "id": "TVHx3HcaYV-t"
      },
      "source": [
        "3. Ограничьте сверху значения продолжительности выполнения рецепта значением квантиля $q_{0.75}$. "
      ]
    },
    {
      "cell_type": "code",
      "source": [
        "with_limited_minutes = data.copy()\n",
        "\n",
        "q_3 = np.quantile(with_limited_minutes[:, 1], q=0.75, axis=0)\n",
        "with_limited_minutes[:, 1][with_limited_minutes[:, 1] > q_3] = q_3\n",
        "\n",
        "print(with_limited_minutes)"
      ],
      "metadata": {
        "colab": {
          "base_uri": "https://localhost:8080/"
        },
        "id": "K0SitdDgS493",
        "outputId": "247ceeb2-13e5-41ea-de33-0e5fc2c39973"
      },
      "execution_count": null,
      "outputs": [
        {
          "output_type": "stream",
          "name": "stdout",
          "text": [
            "[[127244     60     16]\n",
            " [ 23891     25      7]\n",
            " [ 94746     10      6]\n",
            " ...\n",
            " [498432     65     15]\n",
            " [370915      5      4]\n",
            " [ 81993     65     14]]\n"
          ]
        }
      ]
    },
    {
      "cell_type": "markdown",
      "metadata": {
        "id": "Nw41QJcfYV-t"
      },
      "source": [
        "4. Посчитайте, для скольких рецептов указана продолжительность, равная нулю. Замените для таких строк значение в данном столбце на 1."
      ]
    },
    {
      "cell_type": "code",
      "source": [
        "without_zeroes_minutes = with_limited_minutes.copy()\n",
        "mask = without_zeroes_minutes[:, 1] == 0\n",
        "\n",
        "zeros_n = np.count_nonzero(mask)\n",
        "without_zeroes_minutes[:, 1][mask] = 1\n",
        "\n",
        "print(zeros_n)\n",
        "print(without_zeroes_minutes)"
      ],
      "metadata": {
        "colab": {
          "base_uri": "https://localhost:8080/"
        },
        "id": "WaOjqSb8TMop",
        "outputId": "3ded3f51-1b23-4627-b1a0-8321aacd388c"
      },
      "execution_count": null,
      "outputs": [
        {
          "output_type": "stream",
          "name": "stdout",
          "text": [
            "479\n",
            "[[127244     60     16]\n",
            " [ 23891     25      7]\n",
            " [ 94746     10      6]\n",
            " ...\n",
            " [498432     65     15]\n",
            " [370915      5      4]\n",
            " [ 81993     65     14]]\n"
          ]
        }
      ]
    },
    {
      "cell_type": "markdown",
      "metadata": {
        "id": "Uao_kqvOYV-u"
      },
      "source": [
        "5. Посчитайте, сколько уникальных рецептов находится в датасете."
      ]
    },
    {
      "cell_type": "code",
      "source": [
        "unique_recipes_n = np.unique(without_zeroes_minutes[:, 1:], axis=0).shape[0]\n",
        "print(unique_recipes_n)"
      ],
      "metadata": {
        "colab": {
          "base_uri": "https://localhost:8080/"
        },
        "id": "c_It55D5T4hn",
        "outputId": "41f6540a-dfb2-4821-c65a-0f1c7f2cda51"
      },
      "execution_count": null,
      "outputs": [
        {
          "output_type": "stream",
          "name": "stdout",
          "text": [
            "1135\n"
          ]
        }
      ]
    },
    {
      "cell_type": "markdown",
      "metadata": {
        "id": "hcEw4gRVYV-u"
      },
      "source": [
        "6. Сколько и каких различных значений кол-ва ингредиентов присутвует в рецептах из датасета?"
      ]
    },
    {
      "cell_type": "code",
      "source": [
        "print(len(np.unique(without_zeroes_minutes[:, 2])))"
      ],
      "metadata": {
        "colab": {
          "base_uri": "https://localhost:8080/"
        },
        "id": "aOPi9Cs2T-aN",
        "outputId": "93b4e00b-b57e-40fd-b7f5-29e483c0a3a8"
      },
      "execution_count": null,
      "outputs": [
        {
          "output_type": "stream",
          "name": "stdout",
          "text": [
            "37\n"
          ]
        }
      ]
    },
    {
      "cell_type": "markdown",
      "metadata": {
        "id": "q9suB5Q0YV-u"
      },
      "source": [
        "7. Создайте версию массива, содержащую информацию только о рецептах, состоящих не более чем из 5 ингредиентов."
      ]
    },
    {
      "cell_type": "code",
      "source": [
        "print(without_zeroes_minutes[without_zeroes_minutes[:, 2] <= 5])"
      ],
      "metadata": {
        "colab": {
          "base_uri": "https://localhost:8080/"
        },
        "id": "Mh1A3TD4UmIE",
        "outputId": "dbfb6ce1-bc76-4e7d-b5de-71bedf8abcbe"
      },
      "execution_count": null,
      "outputs": [
        {
          "output_type": "stream",
          "name": "stdout",
          "text": [
            "[[446597     15      5]\n",
            " [204134      5      3]\n",
            " [ 25623      6      4]\n",
            " ...\n",
            " [ 52088     60      5]\n",
            " [128811     15      4]\n",
            " [370915      5      4]]\n"
          ]
        }
      ]
    },
    {
      "cell_type": "markdown",
      "metadata": {
        "id": "ep3LKUTZYV-u"
      },
      "source": [
        "8. Для каждого рецепта посчитайте, сколько в среднем ингредиентов приходится на одну минуту рецепта. Найдите максимальное значение этой величины для всего датасета"
      ]
    },
    {
      "cell_type": "code",
      "source": [
        "temp = without_zeroes_minutes.copy()\n",
        "results = (temp[:,2]/temp[:,1])\n",
        "print(results)\n",
        "print((results).max())"
      ],
      "metadata": {
        "id": "SZbOUpYDVYGH",
        "colab": {
          "base_uri": "https://localhost:8080/"
        },
        "outputId": "10156188-b1f2-4c82-f728-789a55b191b0"
      },
      "execution_count": null,
      "outputs": [
        {
          "output_type": "stream",
          "name": "stdout",
          "text": [
            "[0.26666667 0.28       0.6        ... 0.23076923 0.8        0.21538462]\n",
            "24.0\n"
          ]
        }
      ]
    },
    {
      "cell_type": "markdown",
      "metadata": {
        "id": "jJtnEYycYV-u"
      },
      "source": [
        "9. Вычислите среднее количество ингредиентов для топ-100 рецептов с наибольшей продолжительностью"
      ]
    },
    {
      "cell_type": "code",
      "source": [
        "top_100 = np.argsort(without_zeroes_minutes[:, 1])[:-100:-1]\n",
        "print(without_zeroes_minutes[top_100][:, 2].mean())"
      ],
      "metadata": {
        "colab": {
          "base_uri": "https://localhost:8080/"
        },
        "id": "jE5G-JZ3JdTY",
        "outputId": "84f96d3a-2b5c-4e43-ee9d-9e4dc82a27e5"
      },
      "execution_count": null,
      "outputs": [
        {
          "output_type": "stream",
          "name": "stdout",
          "text": [
            "9.94949494949495\n"
          ]
        }
      ]
    },
    {
      "cell_type": "markdown",
      "metadata": {
        "id": "D6dHdJ0UYV-u"
      },
      "source": [
        "10. Выберите случайным образом и выведите информацию о 10 различных рецептах"
      ]
    },
    {
      "cell_type": "code",
      "source": [
        "print(data[np.random.randint(data.shape[0], size=10), :])"
      ],
      "metadata": {
        "colab": {
          "base_uri": "https://localhost:8080/"
        },
        "id": "E8sk8-izKM4l",
        "outputId": "cb8c1f7d-9d6e-424b-f8cb-07cf556892c3"
      },
      "execution_count": null,
      "outputs": [
        {
          "output_type": "stream",
          "name": "stdout",
          "text": [
            "[[376902     55     11]\n",
            " [382036     75     18]\n",
            " [150155     70      6]\n",
            " [338497    365      4]\n",
            " [142321     35      7]\n",
            " [284968    495      8]\n",
            " [382183     20     13]\n",
            " [ 41284      6      7]\n",
            " [146003     20     11]\n",
            " [ 13862     35     13]]\n"
          ]
        }
      ]
    },
    {
      "cell_type": "markdown",
      "metadata": {
        "id": "Il4o9tleYV-u"
      },
      "source": [
        "11. Выведите процент рецептов, кол-во ингредиентов в которых меньше среднего."
      ]
    },
    {
      "cell_type": "code",
      "source": [
        "avg_count = without_zeroes_minutes[top_100][:, 2].mean()\n",
        "mask = data[:, 2] < avg_count\n",
        "print(len(data[mask])/len(data) * 100)"
      ],
      "metadata": {
        "colab": {
          "base_uri": "https://localhost:8080/"
        },
        "id": "7oAFO3u7KrH6",
        "outputId": "9bfd30ab-271f-4846-c3d8-c5bb363015a4"
      },
      "execution_count": null,
      "outputs": [
        {
          "output_type": "stream",
          "name": "stdout",
          "text": [
            "58.802\n"
          ]
        }
      ]
    },
    {
      "cell_type": "markdown",
      "metadata": {
        "id": "5uviSYvYYV-u"
      },
      "source": [
        "12. Назовем \"простым\" такой рецепт, длительность выполнения которого не больше 20 минут и кол-во ингредиентов в котором не больше 5. Создайте версию датасета с дополнительным столбцом, значениями которого являются 1, если рецепт простой, и 0 в противном случае."
      ]
    },
    {
      "cell_type": "code",
      "source": [
        "with_added_column = data.copy()\n",
        "mask = (data[:, 1] <= 20) & (data[:, 2] <= 5)\n",
        "column = mask.astype(int)\n",
        "with_added_column = np.column_stack([with_added_column, column])\n",
        "print(with_added_column)"
      ],
      "metadata": {
        "colab": {
          "base_uri": "https://localhost:8080/"
        },
        "id": "vKd06ojXLm5X",
        "outputId": "988e763f-c288-4c71-a388-a1e148dc57be"
      },
      "execution_count": null,
      "outputs": [
        {
          "output_type": "stream",
          "name": "stdout",
          "text": [
            "[[127244     60     16      0]\n",
            " [ 23891     25      7      0]\n",
            " [ 94746     10      6      0]\n",
            " ...\n",
            " [498432     65     15      0]\n",
            " [370915      5      4      1]\n",
            " [ 81993    140     14      0]]\n"
          ]
        }
      ]
    },
    {
      "cell_type": "markdown",
      "metadata": {
        "id": "eBkSJ9s0YV-u"
      },
      "source": [
        "13. Выведите процент \"простых\" рецептов в датасете"
      ]
    },
    {
      "cell_type": "code",
      "source": [
        "mask = with_added_column[:, 3] == 1\n",
        "temp = with_added_column[:, 3][mask]\n",
        "print(len(temp)/len(with_added_column) * 100)"
      ],
      "metadata": {
        "colab": {
          "base_uri": "https://localhost:8080/"
        },
        "id": "JU9Yc8kVMcDI",
        "outputId": "335bccd3-bdbe-410a-b959-7e9bf5e89045"
      },
      "execution_count": null,
      "outputs": [
        {
          "output_type": "stream",
          "name": "stdout",
          "text": [
            "9.552\n"
          ]
        }
      ]
    },
    {
      "cell_type": "markdown",
      "metadata": {
        "id": "wdtp3u-8YV-u"
      },
      "source": [
        "14. Разделим рецепты на группы по следующему правилу. Назовем рецепты короткими, если их продолжительность составляет менее 10 минут; стандартными, если их продолжительность составляет более 10, но менее 20 минут; и длинными, если их продолжительность составляет не менее 20 минут. Создайте трехмерный массив, где нулевая ось отвечает за номер группы (короткий, стандартный или длинный рецепт), первая ось - за сам рецепт и вторая ось - за характеристики рецепта. Выберите максимальное количество рецептов из каждой группы таким образом, чтобы было возможно сформировать трехмерный массив. Выведите форму полученного массива."
      ]
    },
    {
      "cell_type": "code",
      "execution_count": null,
      "metadata": {
        "id": "sBC-HY2tYV-v",
        "colab": {
          "base_uri": "https://localhost:8080/"
        },
        "outputId": "526ff648-abe0-4daa-fcd0-d9a463297eb8"
      },
      "outputs": [
        {
          "output_type": "stream",
          "name": "stdout",
          "text": [
            "[[[ 67660      5      6]\n",
            "  [366174      7      9]\n",
            "  [204134      5      3]\n",
            "  ...\n",
            "  [420725      5      3]\n",
            "  [  4747      0      9]\n",
            "  [370915      5      4]]\n",
            "\n",
            " [[ 94746     10      6]\n",
            "  [ 33941     18      9]\n",
            "  [446597     15      5]\n",
            "  ...\n",
            "  [  9831     15      7]\n",
            "  [335859     12     14]\n",
            "  [256812     10      3]]\n",
            "\n",
            " [[127244     60     16]\n",
            "  [ 23891     25      7]\n",
            "  [157911     60     14]\n",
            "  ...\n",
            "  [168901     25      7]\n",
            "  [392339     35     13]\n",
            "  [206732     45     10]]]\n"
          ]
        }
      ],
      "source": [
        "short_arr = data[data[:,1] < 10]\n",
        "mask = (data[:,1] >= 10) & (data[:,1] < 20)\n",
        "standard_arr = data[mask]\n",
        "long_arr = data[20 <= data[:,1]]\n",
        "\n",
        "crop_value = np.min([short_arr.shape[0], standard_arr.shape[0], long_arr.shape[0]])\n",
        "\n",
        "result_arr = np.array([short_arr[:crop_value], standard_arr[:crop_value], long_arr[:crop_value]])\n",
        "print(result_arr)"
      ]
    }
  ],
  "metadata": {
    "kernelspec": {
      "display_name": "Python 3 (ipykernel)",
      "language": "python",
      "name": "python3"
    },
    "language_info": {
      "codemirror_mode": {
        "name": "ipython",
        "version": 3
      },
      "file_extension": ".py",
      "mimetype": "text/x-python",
      "name": "python",
      "nbconvert_exporter": "python",
      "pygments_lexer": "ipython3",
      "version": "3.9.12"
    },
    "colab": {
      "provenance": []
    }
  },
  "nbformat": 4,
  "nbformat_minor": 0
}